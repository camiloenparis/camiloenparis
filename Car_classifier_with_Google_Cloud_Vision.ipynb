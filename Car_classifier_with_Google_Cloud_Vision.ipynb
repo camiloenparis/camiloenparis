{
  "nbformat": 4,
  "nbformat_minor": 0,
  "metadata": {
    "colab": {
      "name": "Car classifier with Google Cloud Vision.ipynb",
      "provenance": [],
      "include_colab_link": true
    },
    "kernelspec": {
      "name": "python3",
      "display_name": "Python 3"
    }
  },
  "cells": [
    {
      "cell_type": "markdown",
      "metadata": {
        "id": "view-in-github",
        "colab_type": "text"
      },
      "source": [
        "<a href=\"https://colab.research.google.com/github/camiloenparis/camiloenparis/blob/master/Car_classifier_with_Google_Cloud_Vision.ipynb\" target=\"_parent\"><img src=\"https://colab.research.google.com/assets/colab-badge.svg\" alt=\"Open In Colab\"/></a>"
      ]
    },
    {
      "cell_type": "markdown",
      "metadata": {
        "id": "YxXLNLmy1NWy",
        "colab_type": "text"
      },
      "source": [
        "Nous allons commencer par installer la librairie Google Cloud Vision. Normalement, cela se fait à partir de la console, mais pour simplifier l'exercise, nous allons le faire directement sur le cahier Jupyter. La syntaxe pour executer une commande de la console sur Jupyter est !"
      ]
    },
    {
      "cell_type": "code",
      "metadata": {
        "id": "x4e5clfk1ROK",
        "colab_type": "code",
        "colab": {}
      },
      "source": [
        "!pip install google-cloud-vision==0.35.2"
      ],
      "execution_count": 0,
      "outputs": []
    },
    {
      "cell_type": "markdown",
      "metadata": {
        "id": "b3APFvFd1a7x",
        "colab_type": "text"
      },
      "source": [
        "Maintenant, nous allons importer les librairies nécessaires pour travailler sur le projet\n"
      ]
    },
    {
      "cell_type": "code",
      "metadata": {
        "id": "plsypMjR1bNt",
        "colab_type": "code",
        "colab": {}
      },
      "source": [
        "import io\n",
        "import os\n",
        "from google.cloud import vision\n",
        "from google.cloud.vision import types"
      ],
      "execution_count": 0,
      "outputs": []
    },
    {
      "cell_type": "markdown",
      "metadata": {
        "id": "Ta7jnRUl1vlK",
        "colab_type": "text"
      },
      "source": [
        "Vous devez importer un fichier .json avec les crédentiels nécessaires pour utiliser le service de Google Cloud Vision.\n",
        "\n",
        "Pour simplifier l'exercise, votre instructeur dispose déjà d'un compte Google Cloud et d'un projet avec la facturation et les permissions nécessaires.\n",
        "\n",
        "Votre instructeur va vous fournir les crédentiels, assurez-vous de les importer correctement"
      ]
    },
    {
      "cell_type": "code",
      "metadata": {
        "id": "wFvtIO3d1qD-",
        "colab_type": "code",
        "colab": {}
      },
      "source": [
        "# Maintenant, nous allons pointer vers le fichier json avec nos crédentiels\n",
        "\n",
        "os.environ[\"GOOGLE_APPLICATION_CREDENTIALS\"]=\"car-classificator-credentials.json\""
      ],
      "execution_count": 0,
      "outputs": []
    },
    {
      "cell_type": "markdown",
      "metadata": {
        "id": "7lXbqX8D2PkH",
        "colab_type": "text"
      },
      "source": [
        "Assurez-vous également d'importer une image dans le dossier local du cahier jupyter.\n",
        "Vous allez créer une variable avec le nom du fichier"
      ]
    },
    {
      "cell_type": "code",
      "metadata": {
        "id": "TiXtgeLq3SB3",
        "colab_type": "code",
        "colab": {}
      },
      "source": [
        "# Maintenant, nous allons instancier le client, c'est à dire le service de Google Cloud\n",
        "\n",
        "client = vision.ImageAnnotatorClient()\n",
        "\n",
        "# On choisit le nom du ficher à envoyer à Google\n",
        "file_name = 'car.jpg'\n",
        "\n",
        "with io.open(file_name, 'rb') as image_file:\n",
        "    content = image_file.read()\n",
        "image = types.Image(content=content)\n",
        "\n",
        "# Maintenant, on demande à Google Cloud Vision d'analyser notre image et de nous imprimer tous les \"labels\" trouvés\n",
        "response = client.label_detection(image=image)\n",
        "labels = response.label_annotations\n",
        "\n",
        "# Nous allons initialiser une variable \"voiture\", avec une valeur de \"false\" par défaut\n",
        "voiture = False\n",
        "\n",
        "print('Labels trouvés:')\n",
        "for label in labels:\n",
        "    print(label.description)\n",
        "    # Si le mot \"car\" est trouvé parmi les labels, nous allons considérer qu'il s'agît bien d'une image d'une voiture\"\n",
        "    if label.description is \"Car\" or \"Vehicle\":\n",
        "      voiture = True\n",
        "\n",
        "      \n",
        "if voiture is True:\n",
        "  print(\"\\n --> cette image est une voiture\")\n",
        "else:\n",
        "    print(\"\\n --> cette image n'est pas une voiture\")"
      ],
      "execution_count": 0,
      "outputs": []
    }
  ]
}