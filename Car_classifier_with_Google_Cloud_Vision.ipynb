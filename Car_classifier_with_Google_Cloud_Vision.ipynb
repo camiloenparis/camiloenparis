{
  "nbformat": 4,
  "nbformat_minor": 0,
  "metadata": {
    "colab": {
      "name": "Car classifier with Google Cloud Vision.ipynb",
      "provenance": [],
      "include_colab_link": true
    },
    "kernelspec": {
      "name": "python3",
      "display_name": "Python 3"
    }
  },
  "cells": [
    {
      "cell_type": "markdown",
      "metadata": {
        "id": "view-in-github",
        "colab_type": "text"
      },
      "source": [
        "<a href=\"https://colab.research.google.com/github/camiloenparis/camiloenparis/blob/master/Car_classifier_with_Google_Cloud_Vision.ipynb\" target=\"_parent\"><img src=\"https://colab.research.google.com/assets/colab-badge.svg\" alt=\"Open In Colab\"/></a>"
      ]
    },
    {
      "cell_type": "markdown",
      "metadata": {
        "id": "YxXLNLmy1NWy",
        "colab_type": "text"
      },
      "source": [
        "Nous allons commencer par installer la librairie Google Cloud Vision. Normalement, cela se fait à partir de la console, mais pour simplifier l'exercise, nous allons le faire directement sur le cahier Jupyter. La syntaxe pour executer une commande de la console sur Jupyter est !"
      ]
    },
    {
      "cell_type": "code",
      "metadata": {
        "id": "x4e5clfk1ROK",
        "colab_type": "code",
        "colab": {
          "base_uri": "https://localhost:8080/",
          "height": 352
        },
        "outputId": "1d832358-dad4-4d7c-ef76-a79a2a6b59a2"
      },
      "source": [
        "!pip install google-cloud-vision==0.35.2"
      ],
      "execution_count": 1,
      "outputs": [
        {
          "output_type": "stream",
          "text": [
            "Requirement already satisfied: google-cloud-vision==0.35.2 in /usr/local/lib/python3.6/dist-packages (0.35.2)\n",
            "Requirement already satisfied: google-api-core[grpc]<2.0.0dev,>=1.6.0 in /usr/local/lib/python3.6/dist-packages (from google-cloud-vision==0.35.2) (1.14.2)\n",
            "Requirement already satisfied: google-auth<2.0dev,>=0.4.0 in /usr/local/lib/python3.6/dist-packages (from google-api-core[grpc]<2.0.0dev,>=1.6.0->google-cloud-vision==0.35.2) (1.4.2)\n",
            "Requirement already satisfied: requests<3.0.0dev,>=2.18.0 in /usr/local/lib/python3.6/dist-packages (from google-api-core[grpc]<2.0.0dev,>=1.6.0->google-cloud-vision==0.35.2) (2.21.0)\n",
            "Requirement already satisfied: googleapis-common-protos<2.0dev,>=1.6.0 in /usr/local/lib/python3.6/dist-packages (from google-api-core[grpc]<2.0.0dev,>=1.6.0->google-cloud-vision==0.35.2) (1.6.0)\n",
            "Requirement already satisfied: setuptools>=34.0.0 in /usr/local/lib/python3.6/dist-packages (from google-api-core[grpc]<2.0.0dev,>=1.6.0->google-cloud-vision==0.35.2) (41.2.0)\n",
            "Requirement already satisfied: pytz in /usr/local/lib/python3.6/dist-packages (from google-api-core[grpc]<2.0.0dev,>=1.6.0->google-cloud-vision==0.35.2) (2018.9)\n",
            "Requirement already satisfied: protobuf>=3.4.0 in /usr/local/lib/python3.6/dist-packages (from google-api-core[grpc]<2.0.0dev,>=1.6.0->google-cloud-vision==0.35.2) (3.7.1)\n",
            "Requirement already satisfied: six>=1.10.0 in /usr/local/lib/python3.6/dist-packages (from google-api-core[grpc]<2.0.0dev,>=1.6.0->google-cloud-vision==0.35.2) (1.12.0)\n",
            "Requirement already satisfied: grpcio<2.0dev,>=1.8.2; extra == \"grpc\" in /usr/local/lib/python3.6/dist-packages (from google-api-core[grpc]<2.0.0dev,>=1.6.0->google-cloud-vision==0.35.2) (1.15.0)\n",
            "Requirement already satisfied: rsa>=3.1.4 in /usr/local/lib/python3.6/dist-packages (from google-auth<2.0dev,>=0.4.0->google-api-core[grpc]<2.0.0dev,>=1.6.0->google-cloud-vision==0.35.2) (4.0)\n",
            "Requirement already satisfied: pyasn1-modules>=0.2.1 in /usr/local/lib/python3.6/dist-packages (from google-auth<2.0dev,>=0.4.0->google-api-core[grpc]<2.0.0dev,>=1.6.0->google-cloud-vision==0.35.2) (0.2.6)\n",
            "Requirement already satisfied: cachetools>=2.0.0 in /usr/local/lib/python3.6/dist-packages (from google-auth<2.0dev,>=0.4.0->google-api-core[grpc]<2.0.0dev,>=1.6.0->google-cloud-vision==0.35.2) (3.1.1)\n",
            "Requirement already satisfied: chardet<3.1.0,>=3.0.2 in /usr/local/lib/python3.6/dist-packages (from requests<3.0.0dev,>=2.18.0->google-api-core[grpc]<2.0.0dev,>=1.6.0->google-cloud-vision==0.35.2) (3.0.4)\n",
            "Requirement already satisfied: urllib3<1.25,>=1.21.1 in /usr/local/lib/python3.6/dist-packages (from requests<3.0.0dev,>=2.18.0->google-api-core[grpc]<2.0.0dev,>=1.6.0->google-cloud-vision==0.35.2) (1.24.3)\n",
            "Requirement already satisfied: idna<2.9,>=2.5 in /usr/local/lib/python3.6/dist-packages (from requests<3.0.0dev,>=2.18.0->google-api-core[grpc]<2.0.0dev,>=1.6.0->google-cloud-vision==0.35.2) (2.8)\n",
            "Requirement already satisfied: certifi>=2017.4.17 in /usr/local/lib/python3.6/dist-packages (from requests<3.0.0dev,>=2.18.0->google-api-core[grpc]<2.0.0dev,>=1.6.0->google-cloud-vision==0.35.2) (2019.6.16)\n",
            "Requirement already satisfied: pyasn1>=0.1.3 in /usr/local/lib/python3.6/dist-packages (from rsa>=3.1.4->google-auth<2.0dev,>=0.4.0->google-api-core[grpc]<2.0.0dev,>=1.6.0->google-cloud-vision==0.35.2) (0.4.7)\n"
          ],
          "name": "stdout"
        }
      ]
    },
    {
      "cell_type": "markdown",
      "metadata": {
        "id": "b3APFvFd1a7x",
        "colab_type": "text"
      },
      "source": [
        "Maintenant, nous allons importer les librairies nécessaires pour travailler sur le projet\n"
      ]
    },
    {
      "cell_type": "code",
      "metadata": {
        "id": "plsypMjR1bNt",
        "colab_type": "code",
        "colab": {}
      },
      "source": [
        "import io\n",
        "import os\n",
        "from google.cloud import vision\n",
        "from google.cloud.vision import types"
      ],
      "execution_count": 0,
      "outputs": []
    },
    {
      "cell_type": "markdown",
      "metadata": {
        "id": "Ta7jnRUl1vlK",
        "colab_type": "text"
      },
      "source": [
        "Vous devez importer un fichier .json avec les crédentiels nécessaires pour utiliser le service de Google Cloud Vision.\n",
        "\n",
        "Pour simplifier l'exercise, votre instructeur dispose déjà d'un compte Google Cloud et d'un projet avec la facturation et les permissions nécessaires.\n",
        "\n",
        "Votre instructeur va vous fournir les crédentiels, assurez-vous de les importer correctement"
      ]
    },
    {
      "cell_type": "code",
      "metadata": {
        "id": "wFvtIO3d1qD-",
        "colab_type": "code",
        "colab": {}
      },
      "source": [
        "# Maintenant, nous allons pointer vers le fichier json avec nos crédentiels\n",
        "\n",
        "os.environ[\"GOOGLE_APPLICATION_CREDENTIALS\"]=\"car-classificator-credentials.json\""
      ],
      "execution_count": 0,
      "outputs": []
    },
    {
      "cell_type": "markdown",
      "metadata": {
        "id": "7lXbqX8D2PkH",
        "colab_type": "text"
      },
      "source": [
        "Assurez-vous également d'importer une image dans le dossier local du cahier jupyter.\n",
        "Vous allez créer une variable avec le nom du fichier"
      ]
    },
    {
      "cell_type": "code",
      "metadata": {
        "id": "TiXtgeLq3SB3",
        "colab_type": "code",
        "colab": {
          "base_uri": "https://localhost:8080/",
          "height": 244
        },
        "outputId": "cc743d82-1e7c-424f-b15a-a2dce0e3879a"
      },
      "source": [
        "# Maintenant, nous allons instancier le client, c'est à dire le service de Google Cloud\n",
        "\n",
        "client = vision.ImageAnnotatorClient()\n",
        "\n",
        "# On choisit le nom du ficher à envoyer à Google\n",
        "file_name = 'car.jpg'\n",
        "\n",
        "with io.open(file_name, 'rb') as image_file:\n",
        "    content = image_file.read()\n",
        "image = types.Image(content=content)\n",
        "\n",
        "# Maintenant, on demande à Google Cloud Vision d'analyser notre image et de nous imprimer tous les \"labels\" trouvés\n",
        "response = client.label_detection(image=image)\n",
        "labels = response.label_annotations\n",
        "\n",
        "# Nous allons initialiser une variable \"voiture\", avec une valeur de \"false\" par défaut\n",
        "voiture = False\n",
        "\n",
        "print('Labels trouvés:')\n",
        "for label in labels:\n",
        "    print(label.description)\n",
        "    # Si le mot \"car\" est trouvé parmi les labels, nous allons considérer qu'il s'agît bien d'une image d'une voiture\"\n",
        "    if label.description is \"Car\" or \"Vehicle\":\n",
        "      voiture = True\n",
        "\n",
        "      \n",
        "if voiture is True:\n",
        "  print(\"\\n --> cette image est une voiture\")\n",
        "else:\n",
        "    print(\"\\n --> cette image n'est pas une voiture\")"
      ],
      "execution_count": 17,
      "outputs": [
        {
          "output_type": "stream",
          "text": [
            "Labels trouvés:\n",
            "Land vehicle\n",
            "Vehicle\n",
            "Car\n",
            "Mid-size car\n",
            "Tesla model s\n",
            "Tesla\n",
            "Automotive design\n",
            "Sedan\n",
            "Family car\n",
            "Full-size car\n",
            "\n",
            " --> cette image est une voiture\n"
          ],
          "name": "stdout"
        }
      ]
    }
  ]
}